{
 "cells": [
  {
   "cell_type": "markdown",
   "metadata": {
    "slideshow": {
     "slide_type": "slide"
    }
   },
   "source": [
    "<!-- <img src=\"https://www.conted.ox.ac.uk/www/static/images/oudce_logo.svg\" alt=\"OXF_logo_HTML\" width=\"300\"> \n",
    "-->\n",
    "\n",
    "<img src=\"data:image/png;base64,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\" alt=\"OXF_logo_HTML\" width=\"300\"> \n",
    "\n",
    "<h1>Python Programming for Data Science Introduction</h1>\n",
    "Weekly Oxford Worldwide (WOW) Course Format\n",
    "\n",
    "<style>\n",
    "div.scrollable {\n",
    "    height: 300px;  /* Adjust this value as needed */\n",
    "    overflow: auto;\n",
    "    border: 1px solid #ccc;  /* Optional: Adds a border */\n",
    "    padding: 10px;           /* Optional: Adds padding inside the box */\n",
    "}\n",
    "</style>"
   ]
  },
  {
   "cell_type": "markdown",
   "metadata": {},
   "source": [
    "## Lecture 2 Plan\n",
    "\n",
    "1. Selection (`if` statements)\n",
    "\n",
    "2. Operators (Comparison, Arithmetic, Logical)\n",
    "\n",
    "3. Iteration (`for`...`in`... and `while`...)\n",
    "\n",
    "4. Functions / Methods\n",
    "\n"
   ]
  },
  {
   "cell_type": "markdown",
   "metadata": {},
   "source": [
    "## 1.0 Selection\n",
    "\n",
    "* Selection gives users choice in programs.\n",
    "\n",
    "* Blocks of code run providing a comparison results in `True`\n",
    "\n",
    "* This binary evaluation applies for both selection statements and iterative statements!\n"
   ]
  },
  {
   "cell_type": "markdown",
   "metadata": {},
   "source": [
    "## 1.1 The `if` statement\n",
    "* Like most programming languages, Python uses the `if` statement to evaluate whether it should run a block of code or not.\n",
    "\n",
    "* If the evaluation is `True`, the body of the `if` statement will be run.\n",
    "\n",
    "* If the evaluation is `False`, the body is not run (ignored)."
   ]
  },
  {
   "cell_type": "code",
   "execution_count": null,
   "metadata": {},
   "outputs": [
    {
     "name": "stdout",
     "output_type": "stream",
     "text": [
      "You passed!\n"
     ]
    }
   ],
   "source": [
    "score = 45\n",
    "if score >= 40 :\n",
    "    print(\"You passed!\")\n"
   ]
  },
  {
   "cell_type": "markdown",
   "metadata": {},
   "source": [
    "Read this evaluation out loud in natural language. \n",
    "* Q: What's the value of score? A: 45\n",
    "\n",
    "* Q: Is 45 greater than OR equal to 40? A: Yes\n",
    "\n",
    "* Q: Do we run the body of the if statement? A: Yes\n"
   ]
  },
  {
   "cell_type": "code",
   "execution_count": null,
   "metadata": {},
   "outputs": [],
   "source": [
    "score = 35\n",
    "if score >= 40 :\n",
    "    print(\"You passed!\")"
   ]
  },
  {
   "cell_type": "markdown",
   "metadata": {},
   "source": [
    "Note on Python syntax\n",
    "* Indentation is important with Python blocks. \n",
    "\n",
    "* The following statement doesn't run if the 'body' of the if statement is not indented (press tab on the keyboard)."
   ]
  },
  {
   "cell_type": "code",
   "execution_count": null,
   "metadata": {},
   "outputs": [
    {
     "ename": "IndentationError",
     "evalue": "expected an indented block (1150838026.py, line 3)",
     "output_type": "error",
     "traceback": [
      "\u001b[0;36m  Cell \u001b[0;32mIn [14], line 3\u001b[0;36m\u001b[0m\n",
      "\u001b[0;31m    print(\"You passed!\")\u001b[0m\n",
      "\u001b[0m    ^\u001b[0m\n",
      "\u001b[0;31mIndentationError\u001b[0m\u001b[0;31m:\u001b[0m expected an indented block\n"
     ]
    }
   ],
   "source": [
    "score = 45\n",
    "if score >= 40 :\n",
    "print(\"You passed!\")"
   ]
  },
  {
   "cell_type": "code",
   "execution_count": null,
   "metadata": {},
   "outputs": [
    {
     "name": "stdout",
     "output_type": "stream",
     "text": [
      "Hi Nick\n"
     ]
    }
   ],
   "source": [
    "name = 'Nick'\n",
    "if name == \"Nick\":\n",
    "    print(\"Hi\", name)"
   ]
  },
  {
   "cell_type": "markdown",
   "metadata": {},
   "source": [
    "## 1.2 `else` statement\n",
    "\n",
    "* The `else` statement could be seen as the counterpart to the `if` statement.\n",
    "\n",
    "* Placed underneath the `if` statement, the `else` statement would run should the `if` statement evaluate to `False`.\n",
    "\n",
    "* In the context of a series of evaluations, the `else` would come last, and only run if all the above evaluations are `False`."
   ]
  },
  {
   "cell_type": "code",
   "execution_count": null,
   "metadata": {},
   "outputs": [
    {
     "name": "stdout",
     "output_type": "stream",
     "text": [
      "Try again...\n"
     ]
    }
   ],
   "source": [
    "score = 35\n",
    "if score >= 40 :\n",
    "    print(\"You passed!\")\n",
    "else:\n",
    "    print(\"Try again...\")\n"
   ]
  },
  {
   "cell_type": "code",
   "execution_count": null,
   "metadata": {},
   "outputs": [
    {
     "name": "stdout",
     "output_type": "stream",
     "text": [
      "Hello someone else!\n"
     ]
    }
   ],
   "source": [
    "name = \"Sam\"\n",
    "if name == \"Nick\":\n",
    "    print(\"Hi Nick!\")\n",
    "else:\n",
    "    print(\"Hello someone else!\")\n"
   ]
  },
  {
   "cell_type": "code",
   "execution_count": null,
   "metadata": {},
   "outputs": [
    {
     "name": "stdout",
     "output_type": "stream",
     "text": [
      "Hello someone else!\n"
     ]
    }
   ],
   "source": [
    "name = \"nick\"\n",
    "if name == \"Nick\":\n",
    "    print(\"Hi Nick!\")\n",
    "else:\n",
    "    print(\"Hello someone else!\")"
   ]
  },
  {
   "cell_type": "markdown",
   "metadata": {},
   "source": [
    "## 1.3 The `elif` statement\n",
    "\n",
    "* `elif` is Python's keyword for else if. \n",
    "\n",
    "* Sequentially, `elif` statements fit between the opening `if` statement and a closing `else` statement.\n",
    "\n",
    "* `elif` statements are exclusive. They are only checked providing the preceeding conditional evaluated to `False`."
   ]
  },
  {
   "cell_type": "code",
   "execution_count": null,
   "metadata": {},
   "outputs": [
    {
     "name": "stdout",
     "output_type": "stream",
     "text": [
      "You passed!\n"
     ]
    }
   ],
   "source": [
    "score = 55\n",
    "if score >= 40 :\n",
    "    print(\"You passed!\")\n",
    "elif score >= 50 :\n",
    "    print(\"You scored a C\")\n",
    "else :\n",
    "    print(\"Try again...\")\n"
   ]
  },
  {
   "cell_type": "markdown",
   "metadata": {},
   "source": [
    "Question: is this output logically correct?"
   ]
  },
  {
   "cell_type": "code",
   "execution_count": null,
   "metadata": {},
   "outputs": [
    {
     "name": "stdout",
     "output_type": "stream",
     "text": [
      "You scored a C!\n"
     ]
    }
   ],
   "source": [
    "score = 55\n",
    "if score >= 60:\n",
    "    print(\"You scored a B!\")\n",
    "elif score >= 50 :\n",
    "    print(\"You scored a C!\")\n",
    "elif score >= 40 :\n",
    "    print(\"You passed!\")\n",
    "else :\n",
    "    print(\"Try again...\")"
   ]
  },
  {
   "cell_type": "markdown",
   "metadata": {},
   "source": [
    "What would happen if we used `if` statements here rather than `elif` statements?"
   ]
  },
  {
   "cell_type": "code",
   "execution_count": null,
   "metadata": {},
   "outputs": [
    {
     "name": "stdout",
     "output_type": "stream",
     "text": [
      "You scored a C!\n",
      "You passed!\n"
     ]
    }
   ],
   "source": [
    "score = 55\n",
    "if score >= 60:\n",
    "    print(\"You scored a B!\")\n",
    "if score >= 50 :\n",
    "    print(\"You scored a C!\")\n",
    "if score >= 40 :\n",
    "    print(\"You passed!\")\n",
    "else :\n",
    "    print(\"Try again...\")"
   ]
  },
  {
   "cell_type": "markdown",
   "metadata": {},
   "source": [
    "Multiple `if` statements could be true at the same time - they are not exclusive like `elif` statements."
   ]
  },
  {
   "cell_type": "markdown",
   "metadata": {},
   "source": [
    "## Selection in other languages\n",
    "\n",
    "* Other languages: C, C++, C# and Java feature a `switch` statement and a ternary `?` operator as alternate ways to select between blocks of code. \n",
    "\n",
    "* `switch` is not present in Python, nor is the `?` used.\n",
    "\n",
    "* But the ternary functionality can be performed with if and else in the same line (introduced in Python 2.5):    \n",
    "`value_if_true if condition else value_if_false`\n"
   ]
  },
  {
   "cell_type": "code",
   "execution_count": null,
   "metadata": {},
   "outputs": [
    {
     "name": "stdout",
     "output_type": "stream",
     "text": [
      "You passed!\n"
     ]
    }
   ],
   "source": [
    "score = 50\n",
    "print(\"You passed!\") if score >= 40 else print(\"Try again...\")"
   ]
  },
  {
   "cell_type": "code",
   "execution_count": null,
   "metadata": {},
   "outputs": [
    {
     "name": "stdout",
     "output_type": "stream",
     "text": [
      "Try again...\n"
     ]
    }
   ],
   "source": [
    "score = 30\n",
    "print(\"You passed!\") if score >= 40 else print(\"Try again...\")"
   ]
  },
  {
   "cell_type": "markdown",
   "metadata": {},
   "source": [
    "## 2.1 Comparison Operators\n",
    "\n",
    "* `>` Greater than\n",
    "\n",
    "* `<` Less than\n",
    "\n",
    "* `>=` Greater than or equal\n",
    "\n",
    "* `<=` Less than or equal\n",
    "\n",
    "* `==` Equality\n",
    "\n",
    "* `!=` Not equal"
   ]
  },
  {
   "cell_type": "markdown",
   "metadata": {},
   "source": [
    "| Syntax      | Description |\n",
    "| ----------- | ----------- |\n",
    "| <b>x == y</b>   | True if x and y have same value |\n",
    "| <b>x != y</b>   | True if x and y do not have the same value |\n",
    "| <b>x < y</b>   | True if x is less than y |\n",
    "| <b>x > y</b>   | True if x is greater than y |\n",
    "| <b>x <= y</b>   | True if x is less than OR equal to y |\n",
    "| <b>x >= y</b>   | True if x is greater than OR equal to y |"
   ]
  },
  {
   "cell_type": "code",
   "execution_count": null,
   "metadata": {},
   "outputs": [
    {
     "data": {
      "text/plain": [
       "True"
      ]
     },
     "metadata": {},
     "output_type": "display_data"
    }
   ],
   "source": [
    "score = 45\n",
    "score >= 40 "
   ]
  },
  {
   "cell_type": "code",
   "execution_count": null,
   "metadata": {},
   "outputs": [
    {
     "data": {
      "text/plain": [
       "True"
      ]
     },
     "metadata": {},
     "output_type": "display_data"
    }
   ],
   "source": [
    "score = 45\n",
    "score == 45 "
   ]
  },
  {
   "cell_type": "code",
   "execution_count": null,
   "metadata": {},
   "outputs": [
    {
     "data": {
      "text/plain": [
       "False"
      ]
     },
     "metadata": {},
     "output_type": "display_data"
    }
   ],
   "source": [
    "score = 45\n",
    "score == '45' "
   ]
  },
  {
   "cell_type": "code",
   "execution_count": null,
   "metadata": {},
   "outputs": [
    {
     "data": {
      "text/plain": [
       "False"
      ]
     },
     "metadata": {},
     "output_type": "display_data"
    }
   ],
   "source": [
    "score = 45\n",
    "score != 45 "
   ]
  },
  {
   "cell_type": "markdown",
   "metadata": {},
   "source": [
    "## 2.2 Arithmetic Operators\n",
    "\n",
    "* `+` Addition\n",
    "\n",
    "* `-` Subtraction\n",
    "\n",
    "* `/` Division\n",
    "\n",
    "* `%` Modulus\n",
    "\n",
    "* `*` Multiplication\n",
    "\n",
    "* `//` Floor Division\n",
    "\n",
    "* `**` Power of\n"
   ]
  },
  {
   "cell_type": "markdown",
   "metadata": {},
   "source": [
    "| Syntax      | Output |\n",
    "| ----------- | ----------- |\n",
    "| <b>5 + 5</b>   | 10 |\n",
    "| <b>5 - 4</b>   | 1 |\n",
    "| <b>5 / 2</b>   | 2.5 |\n",
    "| <b>50 % 4</b>   | 2 (mod gives remainder) |\n",
    "| <b>5 * 10</b>   | 50 |\n",
    "| <b>5 // 2</b>   | 2 (round 2.5 down) |\n",
    "| <b>5 ** 2</b>   | 25 (5 x 5) |"
   ]
  },
  {
   "cell_type": "code",
   "execution_count": null,
   "metadata": {},
   "outputs": [
    {
     "data": {
      "text/plain": [
       "16.0"
      ]
     },
     "metadata": {},
     "output_type": "display_data"
    }
   ],
   "source": [
    "8 ** 2 / 4 "
   ]
  },
  {
   "cell_type": "markdown",
   "metadata": {},
   "source": [
    "* 8 ** 2 = $8^2$ = 64\n",
    "\n",
    "* $ 64/4 $ = 16"
   ]
  },
  {
   "cell_type": "code",
   "execution_count": null,
   "metadata": {},
   "outputs": [
    {
     "data": {
      "text/plain": [
       "20"
      ]
     },
     "metadata": {},
     "output_type": "display_data"
    }
   ],
   "source": [
    "4 + 4 ** 2 "
   ]
  },
  {
   "cell_type": "markdown",
   "metadata": {},
   "source": [
    "* 4 ** 2 = $4^2$ = 16\n",
    "\n",
    "* 4 + 16 = 20"
   ]
  },
  {
   "cell_type": "code",
   "execution_count": null,
   "metadata": {},
   "outputs": [
    {
     "data": {
      "text/plain": [
       "64"
      ]
     },
     "metadata": {},
     "output_type": "display_data"
    }
   ],
   "source": [
    "(4 + 4) ** 2 "
   ]
  },
  {
   "cell_type": "markdown",
   "metadata": {},
   "source": [
    "* 4 + 4 = 8\n",
    "\n",
    "* 8 ** 2 = $8^2$ = 64"
   ]
  },
  {
   "cell_type": "markdown",
   "metadata": {},
   "source": [
    "## 2.3 Logical Operators\n",
    "\n",
    "* `and` logical AND\n",
    "\n",
    "* `or` logical OR\n",
    "\n",
    "* `not` logical NOT"
   ]
  },
  {
   "cell_type": "markdown",
   "metadata": {},
   "source": [
    "\n",
    "| Syntax      | Output |\n",
    "| ----------- | ----------- |\n",
    "| <b>x or y</b>   | Either x or y can be be True |\n",
    "| <b>x and y</b>   | Both x and y have to be True |\n",
    "| <b>not x</b>   | True only if x is False |"
   ]
  },
  {
   "cell_type": "code",
   "execution_count": null,
   "metadata": {},
   "outputs": [
    {
     "name": "stdout",
     "output_type": "stream",
     "text": [
      "You passed!\n"
     ]
    }
   ],
   "source": [
    "score = 45\n",
    "if score >= 40 and score <= 100 :\n",
    "    print(\"You passed!\")"
   ]
  },
  {
   "cell_type": "code",
   "execution_count": null,
   "metadata": {},
   "outputs": [
    {
     "name": "stdout",
     "output_type": "stream",
     "text": [
      "Incorrect mark!\n"
     ]
    }
   ],
   "source": [
    "score = 101\n",
    "if score < 0 or score > 100 :\n",
    "    print(\"Incorrect mark!\")"
   ]
  },
  {
   "cell_type": "code",
   "execution_count": null,
   "metadata": {},
   "outputs": [
    {
     "name": "stdout",
     "output_type": "stream",
     "text": [
      "Incorrect mark!\n"
     ]
    }
   ],
   "source": [
    "score = -1\n",
    "if score < 0 or score > 100 :\n",
    "    print(\"Incorrect mark!\")\n"
   ]
  },
  {
   "cell_type": "code",
   "execution_count": null,
   "metadata": {},
   "outputs": [
    {
     "name": "stdout",
     "output_type": "stream",
     "text": [
      "Mark between correct boundaries!\n"
     ]
    }
   ],
   "source": [
    "score = 50\n",
    "if not score < 0 and not score > 100 :\n",
    "    print(\"Mark between correct boundaries!\")"
   ]
  },
  {
   "cell_type": "code",
   "execution_count": null,
   "metadata": {},
   "outputs": [
    {
     "name": "stdout",
     "output_type": "stream",
     "text": [
      "Incorrect mark!\n"
     ]
    }
   ],
   "source": [
    "score = 101\n",
    "if not score < 0 and not score > 100 :\n",
    "    print(\"Mark between correct boundaries!\")\n",
    "else:\n",
    "    print(\"Incorrect mark!\")"
   ]
  },
  {
   "cell_type": "markdown",
   "metadata": {},
   "source": [
    "## 3.0 Iteration\n",
    "\n",
    "* Like the `if` statement, iterative statements (loops) will run the block whilst the evaluate is `True`.\n",
    "\n",
    "* To prevent an infinite loop, you would need to set a case where the evaluation is `False` so to exit the loop. \n",
    "\n",
    "* The number of repetitions could be static or dyanmic (dependent upon circumstance or input)\n",
    "\n",
    "REMEMBER: \n",
    "* A selection statement executes the block ONCE if the valuation is `True`. \n",
    "\n",
    "* Whereas an iterative statement REPEATS the block whilst the evaluation is `True`\n",
    "\n",
    "![for_loop](https://www.mathwarehouse.com/programming/images/while_loop/top-5-programming-animated-gifs_demonstration-of-while-loop-animation_logo.gif)"
   ]
  },
  {
   "cell_type": "code",
   "execution_count": null,
   "metadata": {},
   "outputs": [],
   "source": [
    "import time # for illustration purposes - delaying outputs"
   ]
  },
  {
   "cell_type": "code",
   "execution_count": null,
   "metadata": {},
   "outputs": [
    {
     "name": "stdout",
     "output_type": "stream",
     "text": [
      "Loop 0\n",
      "Loop 1\n",
      "Loop 2\n"
     ]
    }
   ],
   "source": [
    "i = 0\n",
    "while i < 3 :\n",
    "    print(\"Loop\", i)\n",
    "    time.sleep(1) # for illustration purposes\n",
    "    i += 1"
   ]
  },
  {
   "cell_type": "code",
   "execution_count": null,
   "metadata": {},
   "outputs": [
    {
     "name": "stdout",
     "output_type": "stream",
     "text": [
      "1\n",
      "2\n",
      "3\n"
     ]
    }
   ],
   "source": [
    "for i in range(1,4):\n",
    "    print(i)\n",
    "    time.sleep(1) # for illustration purposes"
   ]
  },
  {
   "cell_type": "markdown",
   "metadata": {},
   "source": [
    "Like most languages, Python strings are 'arrays', in which each character is stored in an indexed position (more on this in Lecture 4):"
   ]
  },
  {
   "cell_type": "code",
   "execution_count": null,
   "metadata": {},
   "outputs": [
    {
     "name": "stdout",
     "output_type": "stream",
     "text": [
      "N\n",
      "i\n",
      "c\n",
      "k\n"
     ]
    }
   ],
   "source": [
    "name = \"Nick\"\n",
    "for x in name :\n",
    "    print(x)\n",
    "    time.sleep(1) # for illustration purposes\n"
   ]
  },
  {
   "cell_type": "markdown",
   "metadata": {},
   "source": [
    "## Iteration in other languages\n",
    "\n",
    "* Other languages: C, C++, C# and Java feature a `do while` and the traditional for loop `for(int i = 0; i < 5; i++)` loop as alternate ways to iterate over between blocks of code. \n",
    "\n",
    "* The `for… in…` in Python is equivalent to the `for each` loop in other languages.\n",
    "\n",
    "* `do while` is not present in Python, nor the traditional `for` loop.\n",
    "\n",
    "* Increment operator (`++`) also not in Python because `int` is a class, not a primitive type.\n"
   ]
  },
  {
   "cell_type": "markdown",
   "metadata": {},
   "source": [
    "## There is also list comprehension... \n",
    "\n",
    "* We'll see this in the next lecture..."
   ]
  },
  {
   "cell_type": "markdown",
   "metadata": {},
   "source": [
    "## Reminder of the core constructs: \n",
    "\n",
    "* <b>Sequence</b> mandates that statements be executed in order (line by line)\n",
    "\n",
    "* <b>Selection</b> (conditional) statements will execute a block of code once when the condition is `True`\n",
    "\n",
    "* <b>Iteration</b> allows us to repeat statements within a block whilst the condition is `True`\n"
   ]
  },
  {
   "cell_type": "markdown",
   "metadata": {},
   "source": [
    "## 4. Functions!\n",
    "* A function is a block of code that performs a well defined task. \n",
    "\n",
    "* Could be a single line of code, or could be multiple statements which contribute to the achievement of a task. \n",
    "\n",
    "* In our first week, we shall use the main method to achieve basic tasks, such as outputting a message to the screen, or storing the user’s name.\n"
   ]
  },
  {
   "cell_type": "code",
   "execution_count": null,
   "metadata": {},
   "outputs": [],
   "source": [
    "def get_input():\n",
    "    return input(\"Please enter your name: \")"
   ]
  },
  {
   "cell_type": "code",
   "execution_count": null,
   "metadata": {},
   "outputs": [
    {
     "data": {
      "text/plain": [
       "'sam'"
      ]
     },
     "metadata": {},
     "output_type": "display_data"
    }
   ],
   "source": [
    "get_input()"
   ]
  },
  {
   "cell_type": "code",
   "execution_count": null,
   "metadata": {},
   "outputs": [],
   "source": [
    "name = get_input()\n",
    "print(name)"
   ]
  },
  {
   "cell_type": "code",
   "execution_count": null,
   "metadata": {},
   "outputs": [],
   "source": [
    "def add(x, y):\n",
    "    return x + y"
   ]
  },
  {
   "cell_type": "code",
   "execution_count": null,
   "metadata": {},
   "outputs": [
    {
     "data": {
      "text/plain": [
       "18"
      ]
     },
     "metadata": {},
     "output_type": "display_data"
    }
   ],
   "source": [
    "x = 8 \n",
    "y = 10\n",
    "add(x, y)"
   ]
  },
  {
   "cell_type": "markdown",
   "metadata": {},
   "source": [
    "# Exercise 2: Expressions\n",
    "\n",
    "In this week's exercise, you'll learn how to:\n",
    "\n",
    "1. navigate Jupyter notebooks (like this one);\n",
    "2. write and evaluate some basic *expressions* in Python, the computer language of the course;\n",
    "3. call *functions* to use code other people have written; and\n",
    "4. break down Python code into smaller parts to understand it."
   ]
  },
  {
   "cell_type": "markdown",
   "metadata": {},
   "source": [
    "# 1. Jupyter notebooks\n",
    "This webpage is called a Jupyter notebook. A notebook is a place to write programs and view their results.\n",
    "\n",
    "## 1.1. Text cells\n",
    "In a notebook, each rectangle containing text or code is called a *cell*.\n",
    "\n",
    "Text cells (like this one) can be edited by double-clicking on them. They're written in a simple format called [Markdown](http://daringfireball.net/projects/markdown/syntax) to add formatting and section headings.  You don't need to learn Markdown, but you might want to.\n",
    "\n",
    "After you edit a text cell, click the \"run cell\" button at the top that looks like ▶| to confirm any changes. (Try not to delete the instructions of this exercise.)"
   ]
  },
  {
   "cell_type": "markdown",
   "metadata": {},
   "source": [
    "**Question 1.1.1.** This paragraph is in its own text cell.  Try editing it so that this sentence is the last sentence in the paragraph, and then click the \"run cell\" ▶| button .  This sentence, for example, should be deleted.  So should this one."
   ]
  },
  {
   "cell_type": "markdown",
   "metadata": {},
   "source": [
    "## 1.2. Code cells\n",
    "Other cells contain code in the Python 3 language. Running a code cell will execute all of the code it contains.\n",
    "\n",
    "To run the code in a code cell, first click on that cell to activate it.  It'll be highlighted with a little green or blue rectangle.  Next, either press ▶| or hold down the `shift` key and press `return` or `enter`.\n",
    "\n",
    "Try running this cell:"
   ]
  },
  {
   "cell_type": "code",
   "execution_count": null,
   "metadata": {},
   "outputs": [],
   "source": [
    "print(\"Hello, World!\")"
   ]
  },
  {
   "cell_type": "markdown",
   "metadata": {},
   "source": [
    "And this one:"
   ]
  },
  {
   "cell_type": "code",
   "execution_count": null,
   "metadata": {},
   "outputs": [],
   "source": [
    "print(\"\\N{WAVING HAND SIGN}, \\N{EARTH GLOBE ASIA-AUSTRALIA}!\")"
   ]
  },
  {
   "cell_type": "markdown",
   "metadata": {},
   "source": [
    "The fundamental building block of Python code is an expression. Cells can contain multiple lines with multiple expressions. When you run a cell, the lines of code are executed in the order in which they appear. Every `print` expression prints a line. Run the next cell and notice the order of the output."
   ]
  },
  {
   "cell_type": "code",
   "execution_count": null,
   "metadata": {},
   "outputs": [],
   "source": [
    "print(\"First this line is printed,\")\n",
    "print(\"and then this one.\")"
   ]
  },
  {
   "cell_type": "markdown",
   "metadata": {},
   "source": [
    "**Question 1.2.1.** Change the cell above so that it prints out:\n",
    "\n",
    "    First this line,\n",
    "    then the whole 🌏,\n",
    "    and then this one.\n",
    "\n",
    "*Hint:* If you're stuck on the Earth symbol for more than a few minutes, try talking to a neighbor or a TA.  That's a good idea for any exercise problem."
   ]
  },
  {
   "cell_type": "markdown",
   "metadata": {},
   "source": [
    "## 1.3. Writing Jupyter notebooks\n",
    "You can use Jupyter notebooks for your own projects or documents.  When you make your own notebook, you'll need to create your own cells for text and code.\n",
    "\n",
    "To add a cell, click the + button in the menu bar.  It'll start out as a text cell.  You can change it to a code cell by clicking inside it so it's highlighted, clicking the drop-down box next to the restart (⟳) button in the menu bar, and choosing \"Code\".\n",
    "\n",
    "**Question 1.3.1.** Add a code cell below this one.  Write code in it that prints out:\n",
    "   \n",
    "    A whole new cell! ♪🌏♪\n",
    "\n",
    "(That musical note symbol is like the Earth symbol.  Its long-form name is `\\N{EIGHTH NOTE}`.)\n",
    "\n",
    "Run your cell to verify that it works."
   ]
  },
  {
   "cell_type": "markdown",
   "metadata": {},
   "source": [
    "## 1.4. Errors\n",
    "Python is a language, and like natural human languages, it has rules.  It differs from natural language in two important ways:\n",
    "1. The rules are *simple*.  You can learn most of them in a few weeks and gain reasonable proficiency with the language in a semester.\n",
    "2. The rules are *rigid*.  If you're proficient in a natural language, you can understand a non-proficient speaker, glossing over small mistakes.  A computer running Python code is not smart enough to do that.\n",
    "\n",
    "Whenever you write code, you'll make mistakes.  When you run a code cell that has errors, Python will sometimes produce error messages to tell you what you did wrong.\n",
    "\n",
    "Errors are okay; even experienced programmers make many errors.  When you make an error, you just have to find the source of the problem, fix it, and move on.\n",
    "\n",
    "We have made an error in the next cell.  Run it and see what happens."
   ]
  },
  {
   "cell_type": "code",
   "execution_count": null,
   "metadata": {},
   "outputs": [],
   "source": [
    "print(\"This line is missing something.\""
   ]
  },
  {
   "cell_type": "markdown",
   "metadata": {},
   "source": [
    "You should see something like this (minus our annotations):\n",
    "\n",
    "<img src=\"images/error.jpg\"/>\n",
    "\n",
    "The last line of the error output attempts to tell you what went wrong.  The *syntax* of a language is its structure, and this `SyntaxError` tells you that you have created an illegal structure.  \"`EOF`\" means \"end of file,\" so the message is saying Python expected you to write something more (in this case, a right parenthesis) before finishing the cell.\n",
    "\n",
    "There's a lot of terminology in programming languages, but you don't need to know it all in order to program effectively. If you see a cryptic message like this, you can often get by without deciphering it.  (Of course, if you're frustrated, ask a neighbor or the lecturer for help.)\n",
    "\n",
    "Try to fix the code above so that you can run the cell and see the intended message instead of an error."
   ]
  },
  {
   "cell_type": "markdown",
   "metadata": {},
   "source": [
    "# 2. Numbers\n",
    "\n",
    "Quantitative information arises everywhere in data science. In addition to representing commands to print out lines, expressions can represent numbers and methods of combining numbers. The expression `3.2500` evaluates to the number 3.25. (Run the cell and see.)"
   ]
  },
  {
   "cell_type": "code",
   "execution_count": null,
   "metadata": {},
   "outputs": [],
   "source": [
    "3.2500"
   ]
  },
  {
   "cell_type": "markdown",
   "metadata": {},
   "source": [
    "Notice that we didn't have to `print`. When you run a notebook cell, if the last line has a value, then Jupyter helpfully prints out that value for you. However, it won't print out prior lines automatically."
   ]
  },
  {
   "cell_type": "code",
   "execution_count": null,
   "metadata": {},
   "outputs": [],
   "source": [
    "print(2)\n",
    "3\n",
    "4"
   ]
  },
  {
   "cell_type": "markdown",
   "metadata": {},
   "source": [
    "Above, you should see that 4 is the value of the last expression, 2 is printed, but 3 is lost forever because it was neither printed nor last.\n",
    "\n",
    "You don't want to print everything all the time anyway.  But if you feel sorry for 3, change the cell above to print it."
   ]
  },
  {
   "cell_type": "markdown",
   "metadata": {},
   "source": [
    "## 2.1. Arithmetic\n",
    "The line in the next cell subtracts.  Its value is what you'd expect.  Run it."
   ]
  },
  {
   "cell_type": "code",
   "execution_count": null,
   "metadata": {},
   "outputs": [],
   "source": [
    "3.25 - 1.5"
   ]
  },
  {
   "cell_type": "markdown",
   "metadata": {},
   "source": [
    "Many basic arithmetic operations are built in to Python.  The textbook section on [Expressions](http://www.inferentialthinking.com/chapters/03/1/expressions.html) describes all the arithmetic operators used in the course.  The common operator that differs from typical math notation is `**`, which raises one number to the power of the other. So, `2**3` stands for $2^3$ and evaluates to 8. \n",
    "\n",
    "The order of operations is what you learned in elementary school, and Python also has parentheses.  For example, compare the outputs of the cells below. Use parentheses for a happy new year!"
   ]
  },
  {
   "cell_type": "code",
   "execution_count": null,
   "metadata": {},
   "outputs": [],
   "source": [
    "1+6*5-6*3**2*2**3/4*7"
   ]
  },
  {
   "cell_type": "code",
   "execution_count": null,
   "metadata": {},
   "outputs": [],
   "source": [
    "1+(6*5-(6*3))**2*((2**3)/4*7)"
   ]
  },
  {
   "cell_type": "markdown",
   "metadata": {},
   "source": [
    "In standard math notation, the first expression is\n",
    "\n",
    "$$1 + 6 \\times 5 - 6 \\times 3^2 \\times \\frac{2^3}{4} \\times 7,$$\n",
    "\n",
    "while the second expression is\n",
    "\n",
    "$$1 + (6 \\times 5 - (6 \\times 3))^2 \\times (\\frac{(2^3)}{4} \\times 7).$$\n",
    "\n",
    "**Question 2.1.1.** Write a Python expression in this next cell that's equal to $5 \\times (3 \\frac{10}{11}) - 50 \\frac{1}{3} + 2^{.5 \\times 22} - \\frac{7}{33}$.  That's five times three and ten elevenths, minus fifty and a third, plus two to the power of half 22, minus 7 33rds.  By \"$3 \\frac{10}{11}$\" we mean $3+\\frac{10}{11}$, not $3 \\times \\frac{10}{11}$.\n",
    "\n",
    "Replace the ellipses (`...`) with your expression.  Try to use parentheses only when necessary.\n",
    "\n",
    "*Hint:* The correct output should start with a familiar number."
   ]
  },
  {
   "cell_type": "code",
   "execution_count": null,
   "metadata": {},
   "outputs": [],
   "source": [
    "..."
   ]
  },
  {
   "cell_type": "markdown",
   "metadata": {},
   "source": [
    "# 3. Names\n",
    "In natural language, we have terminology that lets us quickly reference very complicated concepts.  We don't say, \"That's a large mammal with brown fur and sharp teeth!\"  Instead, we just say, \"Bear!\"\n",
    "\n",
    "Similarly, an effective strategy for writing code is to define names for data as we compute it, like a lawyer would define terms for complex ideas at the start of a legal document to simplify the rest of the writing.\n",
    "\n",
    "In Python, we do this with *assignment statements*. An assignment statement has a name on the left side of an `=` sign and an expression to be evaluated on the right."
   ]
  },
  {
   "cell_type": "code",
   "execution_count": null,
   "metadata": {},
   "outputs": [],
   "source": [
    "ten = 3 * 2 + 4"
   ]
  },
  {
   "cell_type": "markdown",
   "metadata": {},
   "source": [
    "When you run that cell, Python first evaluates the first line.  It computes the value of the expression `3 * 2 + 4`, which is the number 10.  Then it gives that value the name `ten`.  At that point, the code in the cell is done running.\n",
    "\n",
    "After you run that cell, the value 10 is bound to the name `ten`:"
   ]
  },
  {
   "cell_type": "code",
   "execution_count": null,
   "metadata": {},
   "outputs": [],
   "source": [
    "ten"
   ]
  },
  {
   "cell_type": "markdown",
   "metadata": {},
   "source": [
    "The statement `ten = 3 * 2 + 4` is not asserting that `ten` is already equal to `3 * 2 + 4`, as we might expect by analogy with math notation.  Rather, that line of code changes what `ten` means; it now refers to the value 10, whereas before it meant nothing at all.\n",
    "\n",
    "If the designers of Python had been ruthlessly pedantic, they might have made us write\n",
    "\n",
    "    define the name ten to hereafter have the value of 3 * 2 + 4 \n",
    "\n",
    "instead.  You will probably appreciate the brevity of \"`=`\"!  But keep in mind that this is the real meaning.\n",
    "\n",
    "**Question 3.1.** Try writing code that uses a name (like `eleven`) that hasn't been assigned to anything.  You'll see an error!"
   ]
  },
  {
   "cell_type": "code",
   "execution_count": null,
   "metadata": {},
   "outputs": [],
   "source": []
  },
  {
   "cell_type": "markdown",
   "metadata": {},
   "source": [
    "A common pattern in Jupyter notebooks is to assign a value to a name and then immediately evaluate the name in the last line in the cell so that the value is displayed as output. "
   ]
  },
  {
   "cell_type": "code",
   "execution_count": null,
   "metadata": {},
   "outputs": [],
   "source": [
    "close_to_pi = 355/113\n",
    "close_to_pi"
   ]
  },
  {
   "cell_type": "markdown",
   "metadata": {},
   "source": [
    "Another common pattern is that a series of lines in a single cell will build up a complex computation in stages, naming the intermediate results."
   ]
  },
  {
   "cell_type": "code",
   "execution_count": null,
   "metadata": {},
   "outputs": [],
   "source": [
    "bimonthly_salary = 840\n",
    "monthly_salary = 2 * bimonthly_salary\n",
    "number_of_months_in_a_year = 12\n",
    "yearly_salary = number_of_months_in_a_year * monthly_salary\n",
    "yearly_salary"
   ]
  },
  {
   "cell_type": "markdown",
   "metadata": {},
   "source": [
    "Names in Python can have letters (upper- and lower-case letters are both okay and count as different letters), underscores, and numbers.  The first character can't be a number (otherwise a name might look like a number).  And names can't contain spaces, since spaces are used to separate pieces of code from each other.\n",
    "\n",
    "Other than those rules, what you name something doesn't matter *to Python*.  For example, this cell does the same thing as the above cell, except everything has a different name:"
   ]
  },
  {
   "cell_type": "code",
   "execution_count": null,
   "metadata": {},
   "outputs": [],
   "source": [
    "a = 840\n",
    "b = 2 * a\n",
    "c = 12\n",
    "d = c * b\n",
    "d"
   ]
  },
  {
   "cell_type": "markdown",
   "metadata": {},
   "source": [
    "**However**, names are very important for making your code *readable* to yourself and others.  The cell above is shorter, but it's totally useless without an explanation of what it does.\n",
    "\n",
    "According to a famous joke among computer scientists, naming things is one of the two hardest problems in computer science.  (The other two are cache invalidation and \"off-by-one\" errors.  And people say computer scientists have an odd sense of humor...)"
   ]
  },
  {
   "cell_type": "markdown",
   "metadata": {},
   "source": [
    "**Question 3.2.** Assign the name `seconds_in_a_decade` to the number of seconds between midnight January 1, 2010 and midnight January 1, 2020.\n",
    "\n",
    "*Hint:* If you're stuck, the next section shows you how to get hints."
   ]
  },
  {
   "cell_type": "code",
   "execution_count": null,
   "metadata": {},
   "outputs": [],
   "source": [
    "# Change the next line so that it computes the number of\n",
    "# seconds in a decade and assigns that number the name\n",
    "# seconds_in_a_decade.\n",
    "seconds_in_a_decade = ...\n",
    "\n",
    "# We've put this line in this cell so that it will print\n",
    "# the value you've given to seconds_in_a_decade when you\n",
    "# run it.  You don't need to change this.\n",
    "seconds_in_a_decade"
   ]
  },
  {
   "cell_type": "markdown",
   "metadata": {},
   "source": [
    "## 3.1. Comments\n",
    "You may have noticed this line in the cell above:\n",
    "\n",
    "    # Change the next line so that it computes the number of\n",
    "\n",
    "That is called a *comment*.  It doesn't make anything happen in Python; Python ignores anything on a line after a #.  Instead, it's there to communicate something about the code to you, the human reader.  Comments are extremely useful.\n",
    "\n",
    "<img src=\"http://imgs.xkcd.com/comics/future_self.png\">"
   ]
  },
  {
   "cell_type": "markdown",
   "metadata": {},
   "source": [
    "## 3.2. Application: A physics experiment\n",
    "\n",
    "On the Apollo 15 mission to the Moon, astronaut David Scott famously replicated Galileo's physics experiment in which he showed that gravity accelerates objects of different mass at the same rate. Because there is no air resistance for a falling object on the surface of the Moon, even two objects with very different masses and densities should fall at the same rate. David Scott compared a feather and a hammer.\n",
    "\n",
    "You can run the following cell to watch a video of the experiment."
   ]
  },
  {
   "cell_type": "code",
   "execution_count": null,
   "metadata": {},
   "outputs": [],
   "source": [
    "from IPython.display import YouTubeVideo\n",
    "# The original URL is:\n",
    "#   https://www.youtube.com/watch?v=U7db6ZeLR5s\n",
    "YouTubeVideo(\"U7db6ZeLR5s\")"
   ]
  },
  {
   "cell_type": "markdown",
   "metadata": {},
   "source": [
    "Here's the transcript of the video:\n",
    "\n",
    "**167:22:06 Scott**: Well, in my left hand, I have a feather; in my right hand, a hammer. And I guess one of the reasons we got here today was because of a gentleman named Galileo, a long time ago, who made a rather significant discovery about falling objects in gravity fields. And we thought where would be a better place to confirm his findings than on the Moon. And so we thought we'd try it here for you. The feather happens to be, appropriately, a falcon feather for our Falcon. And I'll drop the two of them here and, hopefully, they'll hit the ground at the same time. \n",
    "\n",
    "**167:22:43 Scott**: How about that!\n",
    "\n",
    "**167:22:45 Allen**: How about that! (Applause in Houston)\n",
    "\n",
    "**167:22:46 Scott**: Which proves that Mr. Galileo was correct in his findings."
   ]
  },
  {
   "cell_type": "markdown",
   "metadata": {},
   "source": [
    "**Newton's Law.** Using this footage, we can also attempt to confirm another famous bit of physics: Newton's law of universal gravitation. Newton's laws predict that any object dropped near the surface of the Moon should fall\n",
    "\n",
    "$$\\frac{1}{2} G \\frac{M}{R^2} t^2 \\text{ meters}$$\n",
    "\n",
    "after $t$ seconds, where $G$ is a universal constant, $M$ is the moon's mass in kilograms, and $R$ is the moon's radius in meters.  So if we know $G$, $M$, and $R$, then Newton's laws let us predict how far an object will fall over any amount of time.\n",
    "\n",
    "To verify the accuracy of this law, we will calculate the difference between the predicted distance the hammer drops and the actual distance.  (If they are different, it might be because Newton's laws are wrong, or because our measurements are imprecise, or because there are other factors affecting the hammer for which we haven't accounted.)\n",
    "\n",
    "Someone studied the video and estimated that the hammer was dropped 113 cm from the surface. Counting frames in the video, the hammer falls for 1.2 seconds (36 frames)."
   ]
  },
  {
   "cell_type": "markdown",
   "metadata": {},
   "source": [
    "**Question 3.3.1.** Complete the code in the next cell to fill in the *data* from the experiment."
   ]
  },
  {
   "cell_type": "code",
   "execution_count": null,
   "metadata": {},
   "outputs": [],
   "source": [
    "# t, the duration of the fall in the experiment, in seconds.\n",
    "# Fill this in.\n",
    "time = \n",
    "\n",
    "# The estimated distance the hammer actually fell, in meters.\n",
    "# Fill this in.\n",
    "estimated_distance_m = "
   ]
  },
  {
   "cell_type": "markdown",
   "metadata": {},
   "source": [
    "**Question 3.3.2.** Now, complete the code in the next cell to compute the difference between the predicted and estimated distances (in meters) that the hammer fell in this experiment.\n",
    "\n",
    "This just means translating the formula above ($\\frac{1}{2}G\\frac{M}{R^2}t^2$) into Python code.  You'll have to replace each variable in the math formula with the name we gave that number in Python code."
   ]
  },
  {
   "cell_type": "code",
   "execution_count": null,
   "metadata": {},
   "outputs": [],
   "source": [
    "# First, we've written down the values of the 3 universal\n",
    "# constants that show up in Newton's formula.\n",
    "\n",
    "# G, the universal constant measuring the strength of gravity.\n",
    "gravity_constant = 6.674 * 10**-11\n",
    "\n",
    "# M, the moon's mass, in kilograms.\n",
    "moon_mass_kg = 7.34767309 * 10**22\n",
    "\n",
    "# R, the radius of the moon, in meters.\n",
    "moon_radius_m = 1.737 * 10**6\n",
    "\n",
    "# The distance the hammer should have fallen over the\n",
    "# duration of the fall, in meters, according to Newton's\n",
    "# law of gravity.  The text above describes the formula\n",
    "# for this distance given by Newton's law.\n",
    "# **YOU FILL THIS PART IN.**\n",
    "predicted_distance_m = \n",
    "\n",
    "# Here we've computed the difference between the predicted\n",
    "# fall distance and the distance we actually measured.\n",
    "# If you've filled in the above code, this should just work.\n",
    "difference = predicted_distance_m - estimated_distance_m\n",
    "difference"
   ]
  },
  {
   "cell_type": "markdown",
   "metadata": {},
   "source": [
    "## 4. Calling functions\n",
    "\n",
    "The most common way to combine or manipulate values in Python is by calling functions. Python comes with many built-in functions that perform common operations.\n",
    "\n",
    "For example, the `abs` function takes a single number as its argument and returns the absolute value of that number.  The absolute value of a number is its distance from 0 on the number line, so `abs(5)` is 5 and `abs(-5)` is also 5."
   ]
  },
  {
   "cell_type": "code",
   "execution_count": null,
   "metadata": {},
   "outputs": [],
   "source": [
    "abs(5)"
   ]
  },
  {
   "cell_type": "code",
   "execution_count": null,
   "metadata": {},
   "outputs": [],
   "source": [
    "abs(-5)"
   ]
  },
  {
   "cell_type": "markdown",
   "metadata": {},
   "source": [
    "## 4.1. Application: Computing walking distances\n",
    "Chunhua is on the corner of 7th Avenue and 42nd Street in Midtown Manhattan, and she wants to know far she'd have to walk to get to Gramercy School on the corner of 10th Avenue and 34th Street.\n",
    "\n",
    "She can't cut across blocks diagonally, since there are buildings in the way.  She has to walk along the sidewalks.  Using the map below, she sees she'd have to walk 3 avenues (long blocks) and 8 streets (short blocks).  In terms of the given numbers, she computed 3 as the difference between 7 and 10, *in absolute value*, and 8 similarly.  \n",
    "\n",
    "Chunhua also knows that blocks in Manhattan are all about 80m by 274m (avenues are farther apart than streets).  So in total, she'd have to walk $(80 \\times |42 - 34| + 274 \\times |7 - 10|)$ meters to get to the park.\n",
    "\n",
    "<img src=\"images/map.jpg\"/>\n",
    "\n",
    "**Question 4.1.1.** Finish the line `num_avenues_away = ...` in the next cell so that the cell calculates the distance Chunhua must walk and gives it the name `manhattan_distance`.  Everything else has been filled in for you.  **Use the `abs` function.**"
   ]
  },
  {
   "cell_type": "code",
   "execution_count": null,
   "metadata": {},
   "outputs": [],
   "source": [
    "# Here's the number of streets away:\n",
    "num_streets_away = abs(42-34)\n",
    "\n",
    "# Compute the number of avenues away in a similar way:\n",
    "num_avenues_away = ...\n",
    "\n",
    "street_length_m = 80\n",
    "avenue_length_m = 274\n",
    "\n",
    "# Now we compute the total distance Chunhua must walk.\n",
    "manhattan_distance = street_length_m*num_streets_away + avenue_length_m*num_avenues_away\n",
    "\n",
    "# We've included this line so that you see the distance\n",
    "# you've computed when you run this cell.  You don't need\n",
    "# to change it, but you can if you want.\n",
    "manhattan_distance"
   ]
  },
  {
   "cell_type": "markdown",
   "metadata": {},
   "source": [
    "##### Multiple arguments\n",
    "Some functions take multiple arguments, separated by commas. For example, the built-in `max` function returns the maximum argument passed to it."
   ]
  },
  {
   "cell_type": "code",
   "execution_count": null,
   "metadata": {},
   "outputs": [],
   "source": [
    "max(2, -3, 4, -5)"
   ]
  },
  {
   "cell_type": "markdown",
   "metadata": {},
   "source": [
    "# 5. Understanding nested expressions\n",
    "Function calls and arithmetic expressions can themselves contain expressions.  You saw an example in the last question:\n",
    "\n",
    "    abs(42-34)\n",
    "\n",
    "has 2 number expressions in a subtraction expression in a function call expression.  And you probably wrote something like `abs(7-10)` to compute `num_avenues_away`.\n",
    "\n",
    "Nested expressions can turn into complicated-looking code. However, the way in which complicated expressions break down is very regular.\n",
    "\n",
    "Suppose we are interested in heights that are very unusual.  We'll say that a height is unusual to the extent that it's far away on the number line from the average human height.  [An estimate](http://press.endocrine.org/doi/full/10.1210/jcem.86.9.7875?ck=nck&) of the average adult human height (averaging, we hope, over all humans on Earth today) is 1.688 meters.\n",
    "\n",
    "So if Aditya is 1.21 meters tall, then his height is $|1.21 - 1.688|$, or $.478$, meters away from the average.  Here's a picture of that:\n",
    "\n",
    "<img src=\"images/numberline_0.png\">\n",
    "\n",
    "And here's how we'd write that in one line of Python code:"
   ]
  },
  {
   "cell_type": "code",
   "execution_count": null,
   "metadata": {},
   "outputs": [],
   "source": [
    "abs(1.21 - 1.688)"
   ]
  },
  {
   "cell_type": "markdown",
   "metadata": {},
   "source": [
    "What's going on here?  `abs` takes just one argument, so the stuff inside the parentheses is all part of that *single argument*.  Specifically, the argument is the value of the expression `1.21 - 1.688`.  The value of that expression is `-.478`.  That value is the argument to `abs`.  The absolute value of that is `.478`, so `.478` is the value of the full expression `abs(1.21 - 1.688)`.\n",
    "\n",
    "Picture simplifying the expression in several steps:\n",
    "\n",
    "1. `abs(1.21 - 1.688)`\n",
    "2. `abs(-.478)`\n",
    "3. `.478`\n",
    "\n",
    "In fact, that's basically what Python does to compute the value of the expression."
   ]
  },
  {
   "cell_type": "markdown",
   "metadata": {},
   "source": [
    "**Question 5.1.** Say that Botan's height is 1.85 meters.  In the next cell, use `abs` to compute the absolute value of the difference between Botan's height and the average human height.  Give that value the name `botan_distance_from_average_m`.\n",
    "\n",
    "<img src=\"images/numberline_1.png\">"
   ]
  },
  {
   "cell_type": "code",
   "execution_count": null,
   "metadata": {},
   "outputs": [],
   "source": [
    "# Replace the ... with an expression to compute the absolute\n",
    "# value of the difference between Botan's height (1.85m) and\n",
    "# the average human height.\n",
    "botan_distance_from_average_m = ...\n",
    "\n",
    "# Again, we've written this here so that the distance you\n",
    "# compute will get printed when you run this cell.\n",
    "botan_distance_from_average_m"
   ]
  },
  {
   "cell_type": "markdown",
   "metadata": {},
   "source": [
    "## 5.1. More nesting\n",
    "Now say that we want to compute the most unusual height among Aditya's and Botan's heights.  We'll use the function `max`, which (again) takes two numbers as arguments and returns the larger of the two arguments.  Combining that with the `abs` function, we can compute the biggest distance from the average among the two heights:"
   ]
  },
  {
   "cell_type": "code",
   "execution_count": null,
   "metadata": {},
   "outputs": [],
   "source": [
    "# Just read and run this cell.\n",
    "\n",
    "aditya_height_m = 1.21\n",
    "botan_height_m = 1.85\n",
    "average_adult_human_height_m = 1.688\n",
    "\n",
    "# The biggest distance from the average human height, among the two heights:\n",
    "biggest_distance_m = max(abs(aditya_height_m - average_adult_human_height_m), abs(botan_height_m - average_adult_human_height_m))\n",
    "\n",
    "# Print out our results in a nice readable format:\n",
    "print(\"The biggest distance from the average height among these two people is\", biggest_distance_m, \"meters.\")"
   ]
  },
  {
   "cell_type": "markdown",
   "metadata": {},
   "source": [
    "The line where `biggest_distance_m` is computed looks complicated, but we can break it down into simpler components just like we did before.\n",
    "\n",
    "The basic recipe is repeated simplification of small parts of the expression:\n",
    "* We start with the simplest components whose values we know, like plain names or numbers.  (Examples: `aditya_height_m` or `5`.)\n",
    "* **Find a simple-enough group of expressions:** We look for a group of simple expressions that are directly connected to each other in the code, for example by arithmetic or as arguments to a function call.\n",
    "* **Evaluate that group:** We evaluate the arithmetic expressions or function calls they're part of, and replace the whole group with whatever we compute.  (Example: `aditya_height_m - average_adult_human_height_m` becomes `-.478`.)\n",
    "* **Repeat:** We continue this process, using the values of the glommed-together stuff as our new basic components.  (Example: `abs(-.478)` becomes `.478`, and `max(.478, .162)` later becomes `.478`.)\n",
    "* We keep doing that until we've evaluated the whole expression.\n",
    "\n",
    "You can run the next cell to see a slideshow of that process."
   ]
  },
  {
   "cell_type": "code",
   "execution_count": null,
   "metadata": {},
   "outputs": [],
   "source": [
    "from IPython.display import IFrame\n",
    "IFrame('https://docs.google.com/presentation/d/1urkX-nRsD8VJvcOnJsjmCy0Jpv752Ssn5Pphg2sMC-0/embed?start=false&loop=false&delayms=3000', 800, 600)"
   ]
  },
  {
   "cell_type": "markdown",
   "metadata": {},
   "source": [
    "Ok, your turn. \n",
    "\n",
    "**Question 5.1.1.** Given the heights of the [Splash Triplets](https://en.wikipedia.org/wiki/Splash_Brothers) from the Golden State Warriors, write an expression that computes the smallest difference between any of the three heights. Your expression shouldn't have any numbers in it, only function calls and the names `clay`, `steph`, and `kevin`. Give the value of your expression the name `min_height_difference`."
   ]
  },
  {
   "cell_type": "code",
   "execution_count": null,
   "metadata": {},
   "outputs": [],
   "source": [
    "# The three players' heights, in meters:\n",
    "clay =  2.01 # Clay Thompson is 6'7\"\n",
    "steph = 1.91 # Steph Curry is 6'3\"\n",
    "kevin = 2.06 # Kevin Durant is officially 6'9\", but many suspect that he is taller.\n",
    "             # (Further complicating matters, membership of the \"Splash Triplets\" \n",
    "             #  is disputed, since it was originally used in reference to \n",
    "             #  Clay Thompson, Steph Curry, and Draymond Green.)\n",
    "\n",
    "# We'd like to look at all 3 pairs of heights, compute the absolute\n",
    "# difference between each pair, and then find the smallest of those\n",
    "# 3 absolute differences.  This is left to you!  If you're stuck,\n",
    "# try computing the value for each step of the process (like the\n",
    "# difference between Clay's heigh and Steph's height) on a separate\n",
    "# line and giving it a name (like clay_steph_height_diff).\n",
    "min_height_difference = ..."
   ]
  },
  {
   "cell_type": "markdown",
   "metadata": {},
   "source": [
    "## 6. If statement and Functions\n",
    "\n",
    "### 6.1 Write a function that takes a string as an input and returns:\n",
    "* the string 'too short' if the string contains less than 10 characters\n",
    "* the string 'just right' if the string contains between 10 and 15 characters\n",
    "* the string 'way too long' if the string contains more than 15 characters"
   ]
  },
  {
   "cell_type": "code",
   "execution_count": null,
   "metadata": {},
   "outputs": [],
   "source": [
    "# Write your solution here:\n"
   ]
  },
  {
   "cell_type": "markdown",
   "metadata": {},
   "source": [
    "### 6.2 Write a Python program to check whether a letter of the Latin/English alphabet is a vowel or consonant.\n",
    "\n",
    "Expected output:\n",
    "```\n",
    "Input a letter of the alphabet: r\n",
    "r is a consonant.\n",
    "```\n",
    "or\n",
    "```\n",
    "Input a letter of the alphabet: a\n",
    "a is a vowel.\n",
    "```"
   ]
  },
  {
   "cell_type": "code",
   "execution_count": null,
   "metadata": {},
   "outputs": [],
   "source": [
    "# the `input` function will create an interactive text input field for you to submit a letter\n",
    "l = input(\"Input a letter of the alphabet: \")\n",
    "# Write your solution here:"
   ]
  },
  {
   "cell_type": "markdown",
   "metadata": {},
   "source": [
    "### Additional Exercises:"
   ]
  },
  {
   "cell_type": "markdown",
   "metadata": {},
   "source": [
    "### Exercise 7:\n",
    "Write a program that uses a loop to efficiently print the \"seven times multiplication table\". The output on screen should resemble the following: \n",
    "<p>\n",
    "1 x 7 = 7 <br>\n",
    "2 x 7 = 14 <br>\n",
    "3 x 7 = 21 <br>\n",
    "4 x 7 = 28 <br>\n",
    "5 x 7 = 35 <br>\n",
    "6 x 7 = 42 <br>\n",
    "7 x 7 = 49 <br>\n",
    "8 x 7 = 56 <br>\n",
    "9 x 7 = 63 <br>\n",
    "10 x 7 = 70 <br>\n",
    "11 x 7 = 77 <br>\n",
    "12 x 7 = 84 <br>\n",
    "</p>\n",
    "\n",
    "Extension: Can you write this so that any 'times table' can be generated from the number that a user enters."
   ]
  },
  {
   "cell_type": "code",
   "execution_count": null,
   "metadata": {},
   "outputs": [],
   "source": []
  },
  {
   "cell_type": "markdown",
   "metadata": {},
   "source": [
    "### Exercise 8:\n",
    "Write a program that enables a student to enter a letter grade (A, B, C, D, E or F), then convert that to a university undergraduate classification (1st, 2:1, 2:2, 3rd, ordinary, fail).\n",
    "\n",
    "Extension 1: What happens if the user types in a lowercase letter? Does this affect the program? If so, how would you change the script?\n",
    "\n",
    "Extension 2: Can you place this conditional logic that converts grades to classifications in a function? Don't forget to call this function!"
   ]
  },
  {
   "cell_type": "code",
   "execution_count": null,
   "metadata": {},
   "outputs": [],
   "source": []
  },
  {
   "cell_type": "markdown",
   "metadata": {},
   "source": [
    "### Exercise 9: \n",
    "Write a new program that asks the user to enter an exam mark (0-100). Write conditional statements to print out the grade they would achieve from this mark.\n",
    "\n",
    "Extension 1: Also define this logic as a function 'convert_mark_to_grade'\n",
    "\n",
    "Extension 2: Furthermore, also call the 'convert_grade_to_classification' function defined previously. The user should be able to enter a single mark, which is then converted to a grade, which in turn is then converted to a degree classification."
   ]
  },
  {
   "cell_type": "code",
   "execution_count": null,
   "metadata": {},
   "outputs": [],
   "source": []
  },
  {
   "cell_type": "markdown",
   "metadata": {},
   "source": [
    "### Exercise 10: \n",
    "Write a guessing game program in Python. The game should randomly assign a number between 1 and 100 to a variable (without the user knowing the selected number) each time the game is run. The user must then guess the number selected and should be guided by whether their guess is greater or less than the randomly chosen number. The program should record how many guess attempts it takes to correctly identify the number. \n"
   ]
  },
  {
   "cell_type": "code",
   "execution_count": null,
   "metadata": {},
   "outputs": [],
   "source": [
    "# Start by checking that the code provided outputs random numbers between 1 and 100\n",
    "\n",
    "import random\n",
    "target = 0\n",
    "target = random.uniform(1, 100)\n",
    "target = int(target)\n",
    "\n",
    "print(target) # Don't forget to comment this print statement when the game starts!\n",
    "\n",
    "# Code your solution here\n"
   ]
  },
  {
   "cell_type": "markdown",
   "metadata": {},
   "source": [
    "Congratulations, you're done with Exercise 2! Remember to save the notebook appending your name.  "
   ]
  }
 ],
 "metadata": {
  "celltoolbar": "Slideshow",
  "kernelspec": {
   "display_name": "base",
   "language": "python",
   "name": "python3"
  },
  "language_info": {
   "codemirror_mode": {
    "name": "ipython",
    "version": 3
   },
   "file_extension": ".py",
   "mimetype": "text/x-python",
   "name": "python",
   "nbconvert_exporter": "python",
   "pygments_lexer": "ipython3",
   "version": "3.11.5"
  }
 },
 "nbformat": 4,
 "nbformat_minor": 4
}
